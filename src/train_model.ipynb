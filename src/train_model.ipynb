{
 "cells": [
  {
   "cell_type": "code",
   "execution_count": 11,
   "metadata": {},
   "outputs": [],
   "source": [
    "import numpy as np\n",
    "import pandas as pd\n",
    "import seaborn as sns\n",
    "import matplotlib.pyplot as plt\n",
    "from matplotlib import rcParams\n",
    "\n",
    "%config InlineBackend.figure_format = 'retina'\n",
    "%matplotlib inline\n",
    "\n",
    "plt.style.use('ggplot')\n",
    "# figure size in inches\n",
    "rcParams['figure.figsize'] = 8, 4\n",
    "\n",
    "sns.set(font_scale=1.5)\n",
    "\n",
    "import joblib\n",
    "\n",
    "from sklearn.compose import ColumnTransformer\n",
    "from sklearn.compose import make_column_selector as selector\n",
    "from sklearn.preprocessing import OneHotEncoder\n",
    "from sklearn.preprocessing import StandardScaler\n",
    "from sklearn.decomposition import PCA\n",
    "from sklearn.feature_selection import VarianceThreshold\n",
    "\n",
    "from sklearn.model_selection import train_test_split, KFold, RepeatedKFold, cross_val_score\n",
    "from sklearn.metrics import classification_report, make_scorer, accuracy_score\n",
    "from sklearn.metrics import confusion_matrix, ConfusionMatrixDisplay\n",
    "from sklearn.model_selection import GridSearchCV\n",
    "from sklearn.neighbors import KNeighborsClassifier\n",
    "from sklearn.pipeline import Pipeline"
   ]
  },
  {
   "cell_type": "code",
   "execution_count": 12,
   "metadata": {},
   "outputs": [
    {
     "data": {
      "text/plain": [
       "(928344, 70)"
      ]
     },
     "execution_count": 12,
     "metadata": {},
     "output_type": "execute_result"
    }
   ],
   "source": [
    "path = '../data/all-data/'\n",
    "df = pd.read_csv(f'{path}intrusion_detection_data_v1.csv')\n",
    "df.shape"
   ]
  },
  {
   "cell_type": "code",
   "execution_count": 13,
   "metadata": {},
   "outputs": [
    {
     "name": "stdout",
     "output_type": "stream",
     "text": [
      "Train size: 649840\n",
      "Test size: 278504\n"
     ]
    }
   ],
   "source": [
    "# Create train, test split\n",
    "train, test = train_test_split(df, train_size=0.7, random_state=123, stratify=df.label.values)\n",
    "print(f'Train size: {train.shape[0]}')\n",
    "print(f'Test size: {test.shape[0]}')\n",
    "\n",
    "# Split train and test into features and target.\n",
    "X_train = train.iloc[:, :-2]\n",
    "y_train = train['label']\n",
    "\n",
    "X_test = test.iloc[:, :-2]\n",
    "y_test = test['label']"
   ]
  },
  {
   "cell_type": "markdown",
   "metadata": {},
   "source": [
    "#### KNN"
   ]
  },
  {
   "cell_type": "code",
   "execution_count": 14,
   "metadata": {},
   "outputs": [],
   "source": [
    "# Define KNN model object.\n",
    "knn_model = KNeighborsClassifier()\n",
    "\n",
    "# Define scoring metrics.\n",
    "score = 'accuracy'\n",
    "\n",
    "# Define 10 fold CV object.\n",
    "kfold = KFold(n_splits=2)\n",
    "\n",
    "# Define grid of hyperparameter values.\n",
    "# hyper_grid = {'knn__n_neighbors': range(1, 55, 10)}\n",
    "hyper_grid = {'knn__n_neighbors': [50]}\n",
    "\n",
    "# Remove near-zero variance features that are categorical.\n",
    "nzv_encoder = VarianceThreshold(threshold=0.1)\n",
    "\n",
    "# Center and scale (i.e., standardize) all numeric features.\n",
    "scaler = StandardScaler()\n",
    "\n",
    "# Perform dimension reduction by applying PCA to all numeric features.\n",
    "pca = PCA(n_components=40)\n",
    "\n",
    "# One-hot encode remaining categorical features.\n",
    "encoder = OneHotEncoder(handle_unknown=\"ignore\")"
   ]
  },
  {
   "cell_type": "code",
   "execution_count": 15,
   "metadata": {},
   "outputs": [
    {
     "data": {
      "text/plain": [
       "ColumnTransformer(remainder='passthrough',\n",
       "                  transformers=[('nzv_encode', VarianceThreshold(threshold=0.1),\n",
       "                                 <sklearn.compose._column_transformer.make_column_selector object at 0x000001C5487B3AF0>),\n",
       "                                ('std_encode', StandardScaler(),\n",
       "                                 <sklearn.compose._column_transformer.make_column_selector object at 0x000001C5487B3FA0>),\n",
       "                                ('pca_encode', PCA(n_components=40),\n",
       "                                 <sklearn.compose._column_transformer.make_column_selector object at 0x000001C5487B3A00>),\n",
       "                                ('one-hot',\n",
       "                                 OneHotEncoder(handle_unknown='ignore'),\n",
       "                                 <sklearn.compose._column_transformer.make_column_selector object at 0x000001C5487B31C0>)])"
      ]
     },
     "execution_count": 15,
     "metadata": {},
     "output_type": "execute_result"
    }
   ],
   "source": [
    "# Combine all steps into a preprocessing pipeline\n",
    "preprocessor = ColumnTransformer(\n",
    "  remainder=\"passthrough\",\n",
    "  transformers=[\n",
    "  (\"nzv_encode\", nzv_encoder, selector(dtype_include=\"number\")),\n",
    "  (\"std_encode\", scaler, selector(dtype_include=\"number\")),\n",
    "  (\"pca_encode\", pca, selector(dtype_include=\"number\")),\n",
    "  (\"one-hot\", encoder, selector(dtype_include=\"object\")),\n",
    "  ])\n",
    "preprocessor"
   ]
  },
  {
   "cell_type": "code",
   "execution_count": 20,
   "metadata": {},
   "outputs": [
    {
     "data": {
      "text/plain": [
       "Pipeline(steps=[('preprocessor',\n",
       "                 ColumnTransformer(remainder='passthrough',\n",
       "                                   transformers=[('nzv_encode',\n",
       "                                                  VarianceThreshold(threshold=0.1),\n",
       "                                                  <sklearn.compose._column_transformer.make_column_selector object at 0x000001C5487B3AF0>),\n",
       "                                                 ('std_encode',\n",
       "                                                  StandardScaler(),\n",
       "                                                  <sklearn.compose._column_transformer.make_column_selector object at 0x000001C5487B3FA0>),\n",
       "                                                 ('pca_encode',\n",
       "                                                  PCA(n_components=40),\n",
       "                                                  <sklearn.compose._column_transformer.make_column_selector object at 0x000001C5487B3A00>),\n",
       "                                                 ('one-hot',\n",
       "                                                  OneHotEncoder(handle_unknown='ignore'),\n",
       "                                                  <sklearn.compose._column_transformer.make_column_selector object at 0x000001C5487B31C0>)])),\n",
       "                ('knn', KNeighborsClassifier(n_neighbors=50))])"
      ]
     },
     "execution_count": 20,
     "metadata": {},
     "output_type": "execute_result"
    }
   ],
   "source": [
    "model_pipeline = Pipeline(steps=[\n",
    "  (\"preprocessor\", preprocessor),\n",
    "  (\"knn\", KNeighborsClassifier(n_neighbors=50)),\n",
    "])\n",
    "model_pipeline"
   ]
  },
  {
   "cell_type": "code",
   "execution_count": 53,
   "metadata": {},
   "outputs": [],
   "source": [
    "# Tune a knn model using grid search\n",
    "grid_search = GridSearchCV(model_pipeline, hyper_grid, cv=kfold, scoring=score)\n",
    "results = grid_search.fit(X_train, y_train)"
   ]
  },
  {
   "cell_type": "code",
   "execution_count": 55,
   "metadata": {},
   "outputs": [
    {
     "data": {
      "text/plain": [
       "0.9813877262095285"
      ]
     },
     "execution_count": 55,
     "metadata": {},
     "output_type": "execute_result"
    }
   ],
   "source": [
    "results.best_score_"
   ]
  },
  {
   "cell_type": "code",
   "execution_count": 56,
   "metadata": {},
   "outputs": [
    {
     "data": {
      "text/plain": [
       "['../../app/assets/knn_model.sav']"
      ]
     },
     "execution_count": 56,
     "metadata": {},
     "output_type": "execute_result"
    }
   ],
   "source": [
    "# Save KNN trained model.\n",
    "file_name = '../../app/assets/knn_model.sav'\n",
    "joblib.dump(results, file_name)"
   ]
  },
  {
   "cell_type": "code",
   "execution_count": 5,
   "metadata": {},
   "outputs": [],
   "source": [
    "# Load trained model.\n",
    "model_path = '../../app/assets/knn_model.sav'\n",
    "loaded_model = joblib.load(model_path)"
   ]
  },
  {
   "cell_type": "code",
   "execution_count": 7,
   "metadata": {},
   "outputs": [
    {
     "name": "stdout",
     "output_type": "stream",
     "text": [
      "              precision    recall  f1-score   support\n",
      "\n",
      "      benign       0.99      0.99      0.99    150796\n",
      "         bot       0.93      0.61      0.73       584\n",
      " brute_force       0.96      0.96      0.96      2745\n",
      "        ddos       0.98      0.99      0.98     38404\n",
      "         dos       0.98      0.98      0.98     58124\n",
      "    portscan       0.99      0.99      0.99     27208\n",
      "  web_attack       0.96      0.87      0.91       643\n",
      "\n",
      "    accuracy                           0.99    278504\n",
      "   macro avg       0.97      0.91      0.94    278504\n",
      "weighted avg       0.99      0.99      0.99    278504\n",
      "\n"
     ]
    }
   ],
   "source": [
    "# Test the model.\n",
    "y_pred = loaded_model.predict(X_test)\n",
    "print(classification_report(y_test, y_pred))"
   ]
  },
  {
   "cell_type": "code",
   "execution_count": 57,
   "metadata": {},
   "outputs": [
    {
     "data": {
      "text/plain": [
       "array(['benign', 'benign', 'benign', 'benign', 'benign', 'dos', 'benign',\n",
       "       'benign', 'dos', 'benign'], dtype=object)"
      ]
     },
     "execution_count": 57,
     "metadata": {},
     "output_type": "execute_result"
    }
   ],
   "source": [
    "# Test model with new data.\n",
    "test_data = '../data/all-data/test_data.csv'\n",
    "test_data = pd.read_csv(test_data)\n",
    "\n",
    "y_pred = results.predict(test_data)\n",
    "y_pred"
   ]
  }
 ],
 "metadata": {
  "kernelspec": {
   "display_name": "Python 3.8.2 64-bit",
   "language": "python",
   "name": "python3"
  },
  "language_info": {
   "codemirror_mode": {
    "name": "ipython",
    "version": 3
   },
   "file_extension": ".py",
   "mimetype": "text/x-python",
   "name": "python",
   "nbconvert_exporter": "python",
   "pygments_lexer": "ipython3",
   "version": "3.8.2"
  },
  "orig_nbformat": 4,
  "vscode": {
   "interpreter": {
    "hash": "9650cb4e16cdd4a8e8e2d128bf38d875813998db22a3c986335f89e0cb4d7bb2"
   }
  }
 },
 "nbformat": 4,
 "nbformat_minor": 2
}
