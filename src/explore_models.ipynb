{
 "cells": [
  {
   "cell_type": "raw",
   "metadata": {},
   "source": [
    "---\n",
    "title: \"\"\n",
    "format:\n",
    "  html:\n",
    "    code-fold: true\n",
    "jupyter: python3\n",
    "---"
   ]
  },
  {
   "cell_type": "code",
   "execution_count": 14,
   "metadata": {},
   "outputs": [],
   "source": [
    "#| echo: false\n",
    "\n",
    "import numpy as np\n",
    "import pandas as pd\n",
    "import seaborn as sns\n",
    "import matplotlib.pyplot as plt\n",
    "from matplotlib import rcParams\n",
    "\n",
    "%config InlineBackend.figure_format = 'retina'\n",
    "%matplotlib inline\n",
    "\n",
    "# Ignore warnings.\n",
    "import warnings\n",
    "warnings.filterwarnings(\"ignore\")\n",
    "\n",
    "plt.style.use('ggplot')\n",
    "# figure size in inches\n",
    "rcParams['figure.figsize'] = 8, 4\n",
    "\n",
    "sns.set(font_scale=1.5)\n",
    "\n",
    "import joblib\n",
    "\n",
    "from sklearn.compose import ColumnTransformer\n",
    "from sklearn.preprocessing import LabelEncoder\n",
    "from sklearn.preprocessing import OneHotEncoder\n",
    "from sklearn.preprocessing import StandardScaler\n",
    "from sklearn.feature_selection import SelectKBest, chi2\n",
    "\n",
    "from sklearn.model_selection import train_test_split, KFold, RepeatedKFold, cross_val_score\n",
    "from sklearn.metrics import classification_report, make_scorer, accuracy_score\n",
    "from sklearn.metrics import confusion_matrix, ConfusionMatrixDisplay\n",
    "from sklearn.model_selection import GridSearchCV\n",
    "from sklearn.svm import LinearSVC\n",
    "from sklearn.linear_model import LogisticRegression, LogisticRegressionCV\n",
    "from sklearn.neighbors import KNeighborsRegressor, KNeighborsClassifier\n",
    "from sklearn.tree import DecisionTreeClassifier\n",
    "from sklearn.pipeline import Pipeline\n",
    "\n",
    "from tensorflow.keras.models import Sequential\n",
    "from tensorflow.keras.layers import Dense, Dropout\n",
    "from tensorflow.keras.optimizers import Adam\n",
    "from tensorflow.keras.callbacks import EarlyStopping, ReduceLROnPlateau"
   ]
  },
  {
   "cell_type": "code",
   "execution_count": null,
   "metadata": {},
   "outputs": [],
   "source": [
    "#| echo: false\n",
    "\n",
    "path = '../data/all-data/'\n",
    "df = pd.read_csv(f'{path}intrusion_detection_data_v1.csv')"
   ]
  },
  {
   "cell_type": "code",
   "execution_count": null,
   "metadata": {},
   "outputs": [],
   "source": [
    "#| echo: false\n",
    "\n",
    "# Create train, test split\n",
    "train, test = train_test_split(df, train_size=0.7, random_state=123, stratify=df.label.values)\n",
    "# print(f'Train size: {train.shape[0]}')\n",
    "# print(f'Test size: {test.shape[0]}')"
   ]
  },
  {
   "cell_type": "code",
   "execution_count": 17,
   "metadata": {},
   "outputs": [],
   "source": [
    "#| echo: false\n",
    "\n",
    "# Split train and test into features and target.\n",
    "X_train = train.iloc[:, :-2]\n",
    "y_train = train['label']\n",
    "\n",
    "X_test = test.iloc[:, :-2]\n",
    "y_test = test['label']"
   ]
  },
  {
   "cell_type": "code",
   "execution_count": 18,
   "metadata": {},
   "outputs": [],
   "source": [
    "#| echo: false\n",
    "\n",
    "# Standarize numaric features.\n",
    "scaler = StandardScaler()\n",
    "X_train_std = scaler.fit_transform(X_train)\n",
    "x_test_std = scaler.fit_transform(X_test)\n",
    "\n",
    "# One-hot encode labels.\n",
    "ohe = OneHotEncoder()\n",
    "ohe.fit(y_train.values.reshape(-1, 1))\n",
    "y_train_ohe = ohe.transform(y_train.values.reshape(-1, 1)).toarray()\n",
    "y_test_ohe = ohe.transform(y_test.values.reshape(-1, 1)).toarray()"
   ]
  },
  {
   "cell_type": "markdown",
   "metadata": {},
   "source": [
    "#### Logistic Regression"
   ]
  },
  {
   "cell_type": "code",
   "execution_count": 11,
   "metadata": {},
   "outputs": [
    {
     "name": "stderr",
     "output_type": "stream",
     "text": [
      "c:\\Python38\\lib\\site-packages\\sklearn\\linear_model\\_sag.py:328: ConvergenceWarning: The max_iter was reached which means the coef_ did not converge\n",
      "  warnings.warn(\"The max_iter was reached which means \"\n"
     ]
    },
    {
     "name": "stdout",
     "output_type": "stream",
     "text": [
      "              precision    recall  f1-score   support\n",
      "\n",
      "      benign       0.97      0.96      0.97    150796\n",
      "         bot       1.00      0.02      0.04       584\n",
      " brute_force       0.91      0.45      0.60      2745\n",
      "        ddos       0.87      1.00      0.93     38404\n",
      "         dos       0.96      0.92      0.94     58124\n",
      "    portscan       0.97      0.99      0.98     27208\n",
      "  web_attack       0.71      0.03      0.07       643\n",
      "\n",
      "    accuracy                           0.95    278504\n",
      "   macro avg       0.91      0.63      0.65    278504\n",
      "weighted avg       0.95      0.95      0.95    278504\n",
      "\n"
     ]
    }
   ],
   "source": [
    "#| echo: false\n",
    "\n",
    "# Define Logistic Regression model.\n",
    "lr_model = LogisticRegression(solver='sag', dual=False, max_iter=1000)\n",
    "\n",
    "# Train the model.\n",
    "lr_model = lr_model.fit(X_train_std, y_train)\n",
    "\n",
    "# Test the model.\n",
    "y_pred = lr_model.predict(x_test_std)\n",
    "print(classification_report(y_test, y_pred))"
   ]
  },
  {
   "cell_type": "markdown",
   "metadata": {},
   "source": [
    "#### Linear SVC"
   ]
  },
  {
   "cell_type": "code",
   "execution_count": 8,
   "metadata": {},
   "outputs": [
    {
     "name": "stderr",
     "output_type": "stream",
     "text": [
      "c:\\Python38\\lib\\site-packages\\sklearn\\svm\\_base.py:985: ConvergenceWarning: Liblinear failed to converge, increase the number of iterations.\n",
      "  warnings.warn(\"Liblinear failed to converge, increase \"\n"
     ]
    },
    {
     "name": "stdout",
     "output_type": "stream",
     "text": [
      "              precision    recall  f1-score   support\n",
      "\n",
      "      benign       0.98      0.99      0.98    150796\n",
      "         bot       0.25      0.02      0.04       584\n",
      " brute_force       0.95      0.96      0.96      2745\n",
      "        ddos       0.97      1.00      0.98     38404\n",
      "         dos       0.99      0.97      0.98     58124\n",
      "    portscan       0.98      1.00      0.99     27208\n",
      "  web_attack       0.17      0.04      0.07       643\n",
      "\n",
      "    accuracy                           0.98    278504\n",
      "   macro avg       0.76      0.71      0.71    278504\n",
      "weighted avg       0.98      0.98      0.98    278504\n",
      "\n"
     ]
    }
   ],
   "source": [
    "#| echo: false\n",
    "\n",
    "# Define Linear SVC model object.\n",
    "l_svm_model = LinearSVC(dual=False)\n",
    "\n",
    "# Train the model.\n",
    "l_svm_model.fit(X_train_std, y_train)\n",
    "\n",
    "# Test the model.\n",
    "y_pred = l_svm_model.predict(x_test_std)\n",
    "print(classification_report(y_test, y_pred))"
   ]
  },
  {
   "cell_type": "markdown",
   "metadata": {},
   "source": [
    "#### KNN"
   ]
  },
  {
   "cell_type": "code",
   "execution_count": 6,
   "metadata": {},
   "outputs": [
    {
     "name": "stdout",
     "output_type": "stream",
     "text": [
      "              precision    recall  f1-score   support\n",
      "\n",
      "           0       0.99      1.00      0.99    150796\n",
      "           1       0.95      0.70      0.81       584\n",
      "           2       0.99      0.97      0.98      2745\n",
      "           3       1.00      0.99      0.99     38404\n",
      "           4       0.99      1.00      0.99     58124\n",
      "           5       1.00      1.00      1.00     27208\n",
      "           6       0.94      0.89      0.91       643\n",
      "\n",
      "   micro avg       0.99      0.99      0.99    278504\n",
      "   macro avg       0.98      0.94      0.95    278504\n",
      "weighted avg       0.99      0.99      0.99    278504\n",
      " samples avg       0.99      0.99      0.99    278504\n",
      "\n"
     ]
    },
    {
     "name": "stderr",
     "output_type": "stream",
     "text": [
      "c:\\Python38\\lib\\site-packages\\sklearn\\metrics\\_classification.py:1248: UndefinedMetricWarning: Precision and F-score are ill-defined and being set to 0.0 in samples with no predicted labels. Use `zero_division` parameter to control this behavior.\n",
      "  _warn_prf(average, modifier, msg_start, len(result))\n"
     ]
    }
   ],
   "source": [
    "#| echo: false\n",
    "\n",
    "# Define KNN model object.\n",
    "knn_model = KNeighborsClassifier(n_neighbors=50)\n",
    "\n",
    "# Train the model.\n",
    "knn_model.fit(X_train_std, y_train_ohe)\n",
    "\n",
    "# Test the model.\n",
    "y_pred = knn_model.predict(x_test_std)\n",
    "print(classification_report(y_test_ohe, y_pred, target_names=ohe.categories_[0]))"
   ]
  },
  {
   "cell_type": "code",
   "execution_count": null,
   "metadata": {},
   "outputs": [],
   "source": [
    "#| echo: false\n",
    "\n",
    "# Save KNN trained model.\n",
    "# file_name = '../../assets/model/knn_model.sav'\n",
    "# joblib.dump(knn_model, file_name)"
   ]
  }
 ],
 "metadata": {
  "kernelspec": {
   "display_name": "Python 3.8.2 64-bit",
   "language": "python",
   "name": "python3"
  },
  "language_info": {
   "codemirror_mode": {
    "name": "ipython",
    "version": 3
   },
   "file_extension": ".py",
   "mimetype": "text/x-python",
   "name": "python",
   "nbconvert_exporter": "python",
   "pygments_lexer": "ipython3",
   "version": "3.8.2"
  },
  "orig_nbformat": 4,
  "vscode": {
   "interpreter": {
    "hash": "9650cb4e16cdd4a8e8e2d128bf38d875813998db22a3c986335f89e0cb4d7bb2"
   }
  }
 },
 "nbformat": 4,
 "nbformat_minor": 2
}
